{
  "nbformat": 4,
  "nbformat_minor": 0,
  "metadata": {
    "colab": {
      "name": "Spacy custom NER model.ipynb",
      "provenance": [],
      "collapsed_sections": [],
      "include_colab_link": true
    },
    "kernelspec": {
      "name": "python3",
      "display_name": "Python 3"
    }
  },
  "cells": [
    {
      "cell_type": "markdown",
      "metadata": {
        "id": "view-in-github",
        "colab_type": "text"
      },
      "source": [
        "<a href=\"https://colab.research.google.com/github/SergheiDinu/CUTIE/blob/master/Spacy_custom_NER_model.ipynb\" target=\"_parent\"><img src=\"https://colab.research.google.com/assets/colab-badge.svg\" alt=\"Open In Colab\"/></a>"
      ]
    },
    {
      "cell_type": "markdown",
      "metadata": {
        "id": "bdSzZOGxejG1"
      },
      "source": [
        "\n",
        "Mount google drive"
      ]
    },
    {
      "cell_type": "code",
      "metadata": {
        "id": "8GtODY2VehRG",
        "colab": {
          "base_uri": "https://localhost:8080/"
        },
        "outputId": "42c03046-2bae-4b61-ae1b-1180fe0c0c41"
      },
      "source": [
        "from google.colab import drive\n",
        "drive.mount('/content/drive')"
      ],
      "execution_count": null,
      "outputs": [
        {
          "output_type": "stream",
          "name": "stdout",
          "text": [
            "Mounted at /content/drive\n"
          ]
        }
      ]
    },
    {
      "cell_type": "markdown",
      "metadata": {
        "id": "uKrU8_zZeq15"
      },
      "source": [
        "Create model and save"
      ]
    },
    {
      "cell_type": "code",
      "metadata": {
        "id": "aQt8RSHvevZZ",
        "outputId": "6e4d5c3b-786a-4996-c0e3-09b3b57a1296",
        "colab": {
          "base_uri": "https://localhost:8080/"
        }
      },
      "source": [
        "import spacy\n",
        "import random\n",
        "import spacy.cli\n",
        "\n",
        "\n",
        "#SPECIFY THE NER TRAINING DATA\n",
        "TRAIN_DATA = [\n",
        "        (\"I have deposited an amount of $500 using my debit card.\",{\"entities\":[(7,16,\"action\"),(30,34,\"amount\")]}),\n",
        "(\"Send $500 to the merchant with account number 1234567890. \",{\"entities\":[(0,4,\"action\"),(5,9,\"amount\")]}),\n",
        "(\"Transfer $20000 to my new bank account ending with the number 4567. \",{\"entities\":[(0,8,\"action\"),(9,15,\"amount\")]}),\n",
        "(\"Please deposit $2000 in my account. \",{\"entities\":[(7,14,\"action\"),(15,20,\"amount\")]}),\n",
        "(\"I would like to withdraw $10000 from my bank account. \",{\"entities\":[(16,24,\"action\"),(25,31,\"amount\")]}),l\n",
        "(\"I have deposited an amount of $500 using my debit card.\",{\"entities\":[(31,35,\"amount\"),(0,0,\"action\"),(7,17,\"action\")]}),\n",
        "(\"I have deposited an amount of $500 using my debit card.\",{\"entities\":[(31,35,\"amount\"),(0,0,\"action\"),(7,17,\"action\")]})]\n",
        "\n",
        "nlp = spacy.blank('en')\n",
        "ner = nlp.create_pipe(\"ner\")\n",
        "\n",
        "nlp.add_pipe(ner, last=True)\n",
        "\n",
        "#ADD THE CUSTOM NAMED ENTITIES HERE  \n",
        "nlp.entity.add_label('action')\n",
        "nlp.entity.add_label('amount')\n",
        "\n",
        "\n",
        "nlp.vocab.vectors.name = 'spacy_pretrained_vectors'\n",
        "optimizer = nlp.begin_training()\n",
        "for i in range(20):\n",
        "    random.shuffle(TRAIN_DATA)\n",
        "    for text, annotations in TRAIN_DATA:\n",
        "        nlp.update([text], [annotations], sgd=optimizer)\n",
        "#SAVE THE CUSTOM NER MODEL TO GOOGLE DRIVE\n",
        "nlp.to_disk(\"/content/drive/My Drive/custom_ner_model\")\n",
        "print(\"Model saved success\")"
      ],
      "execution_count": null,
      "outputs": [
        {
          "output_type": "stream",
          "name": "stdout",
          "text": [
            "Model saved success\n"
          ]
        }
      ]
    },
    {
      "cell_type": "markdown",
      "metadata": {
        "id": "ne47T4eDe1d4"
      },
      "source": [
        "Load the model from Google drive and test it with sample input"
      ]
    },
    {
      "cell_type": "code",
      "metadata": {
        "id": "iXiwkwYOe63V",
        "outputId": "cc5f2fbe-d900-4795-a7fa-7cceb7441286",
        "colab": {
          "base_uri": "https://localhost:8080/"
        }
      },
      "source": [
        "#get model form drive\n",
        "nlp2 = spacy.load(\"/content/drive/My Drive/custom_ner_model\")\n",
        "doc2 = nlp2(\"I have withdrawn an amount of $300 with my credit card.\")\n",
        "for ent in doc2.ents:\n",
        "    print(ent.label_, ent.text)"
      ],
      "execution_count": null,
      "outputs": [
        {
          "output_type": "stream",
          "name": "stdout",
          "text": [
            "action withdrawn\n",
            "amount $300\n"
          ]
        }
      ]
    },
    {
      "cell_type": "code",
      "metadata": {
        "id": "euBe0hZhfWCh"
      },
      "source": [
        ""
      ],
      "execution_count": null,
      "outputs": []
    }
  ]
}